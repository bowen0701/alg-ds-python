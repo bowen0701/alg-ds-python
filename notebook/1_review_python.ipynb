{
 "cells": [
  {
   "cell_type": "code",
   "execution_count": 1,
   "metadata": {
    "collapsed": true
   },
   "outputs": [],
   "source": [
    "from __future__ import print_function\n",
    "from __future__ import division"
   ]
  },
  {
   "cell_type": "code",
   "execution_count": 2,
   "metadata": {},
   "outputs": [
    {
     "name": "stdout",
     "output_type": "stream",
     "text": [
      "0\n",
      "1\n",
      "True\n"
     ]
    }
   ],
   "source": [
    "\"\"\"Variable: hold a reference to a piece of data and not the data itself.\"\"\"\n",
    "the_sum = 0\n",
    "print(the_sum)\n",
    "the_sum = the_sum + 1\n",
    "print(the_sum)\n",
    "the_sum = True\n",
    "print(the_sum)"
   ]
  },
  {
   "cell_type": "code",
   "execution_count": 3,
   "metadata": {},
   "outputs": [
    {
     "name": "stdout",
     "output_type": "stream",
     "text": [
      "[1024, 3, True, 6.5, False]\n",
      "[1024, 3, 4.5, True, 6.5, False]\n",
      "[1024, 3, 4.5, True, 6.5]\n",
      "[1024, 4.5, True, 6.5]\n",
      "[1024, 4.5, 6.5]\n",
      "[4.5, 6.5, 1024]\n",
      "[1024, 6.5, 4.5]\n",
      "1\n",
      "2\n",
      "[1024, 6.5]\n",
      "[6.5]\n"
     ]
    }
   ],
   "source": [
    "\"\"\"List: ordered collection of zero or mote references to objects.\"\"\"\n",
    "my_list = [1024, 3, True, 6.5]\n",
    "my_list.append(False)\n",
    "print(my_list)\n",
    "my_list.insert(2, 4.5)\n",
    "print(my_list)\n",
    "my_list.pop()\n",
    "print(my_list)\n",
    "my_list.pop(1)\n",
    "print(my_list)\n",
    "my_list.pop(2)\n",
    "print(my_list)\n",
    "my_list.sort()\n",
    "print(my_list)\n",
    "my_list.reverse()\n",
    "print(my_list)\n",
    "print(my_list.count(6.5))\n",
    "print(my_list.index(4.5))\n",
    "my_list.remove(4.5)\n",
    "print(my_list)\n",
    "del my_list[0]\n",
    "print(my_list)"
   ]
  },
  {
   "cell_type": "code",
   "execution_count": 4,
   "metadata": {},
   "outputs": [
    {
     "name": "stdout",
     "output_type": "stream",
     "text": [
      "[[1, 2, 3, 4], [1, 2, 3, 4], [1, 2, 3, 4]]\n",
      "[[1, 2, 45, 4], [1, 2, 45, 4], [1, 2, 45, 4]]\n"
     ]
    }
   ],
   "source": [
    "\"\"\"\n",
    "Repetition operator will result in a repetition of references \n",
    "to the data objects in the sequence.\n",
    "\"\"\"\n",
    "my_list = [1, 2, 3, 4]\n",
    "A = [my_list] * 3\n",
    "print(A)\n",
    "my_list[2] = 45\n",
    "print(A)"
   ]
  },
  {
   "cell_type": "code",
   "execution_count": 5,
   "metadata": {},
   "outputs": [
    {
     "name": "stdout",
     "output_type": "stream",
     "text": [
      "[0, 1, 2, 3, 4, 5, 6, 7, 8, 9]\n",
      "[5, 6, 7, 8, 9]\n",
      "[5, 7, 9]\n",
      "[10, 9, 8, 7, 6, 5, 4, 3, 2]\n"
     ]
    }
   ],
   "source": [
    "\"\"\"Range function.\"\"\"\n",
    "print(range(10))\n",
    "print(range(5, 10))\n",
    "print(range(5, 10, 2))\n",
    "print(range(10, 1, -1))"
   ]
  },
  {
   "cell_type": "code",
   "execution_count": 6,
   "metadata": {},
   "outputs": [
    {
     "name": "stdout",
     "output_type": "stream",
     "text": [
      "i\n",
      "DavidDavid\n",
      "5\n",
      "  David   \n",
      "David     \n",
      "     David\n",
      "1\n",
      "DAVID\n",
      "david\n",
      "2\n",
      "['Da', 'id']\n"
     ]
    }
   ],
   "source": [
    "\"\"\"\n",
    "String: sequential collection of zero or more characters, \n",
    "including letters, numbers, and other symbols.\n",
    "\"\"\"\n",
    "my_name = 'David'\n",
    "print(my_name[3])\n",
    "print(my_name * 2)\n",
    "print(len(my_name))\n",
    "print(my_name.center(10))\n",
    "print(my_name.ljust(10))\n",
    "print(my_name.rjust(10))\n",
    "print(my_name.count('d'))\n",
    "print(my_name.upper())\n",
    "print(my_name.lower())\n",
    "print(my_name.find('v'))\n",
    "print(my_name.split('v'))"
   ]
  },
  {
   "cell_type": "code",
   "execution_count": 7,
   "metadata": {},
   "outputs": [
    {
     "name": "stdout",
     "output_type": "stream",
     "text": [
      "[1, 3, True, 6.5]\n",
      "[1024, 3, True, 6.5]\n"
     ]
    },
    {
     "ename": "TypeError",
     "evalue": "'str' object does not support item assignment",
     "output_type": "error",
     "traceback": [
      "\u001b[0;31m\u001b[0m",
      "\u001b[0;31mTypeError\u001b[0mTraceback (most recent call last)",
      "\u001b[0;32m<ipython-input-7-27411b116635>\u001b[0m in \u001b[0;36m<module>\u001b[0;34m()\u001b[0m\n\u001b[1;32m      5\u001b[0m \u001b[0;32mprint\u001b[0m\u001b[0;34m(\u001b[0m\u001b[0mmy_list\u001b[0m\u001b[0;34m)\u001b[0m\u001b[0;34m\u001b[0m\u001b[0m\n\u001b[1;32m      6\u001b[0m \u001b[0mmy_name\u001b[0m \u001b[0;34m=\u001b[0m \u001b[0;34m'David'\u001b[0m\u001b[0;34m\u001b[0m\u001b[0m\n\u001b[0;32m----> 7\u001b[0;31m \u001b[0mmy_name\u001b[0m\u001b[0;34m[\u001b[0m\u001b[0;36m0\u001b[0m\u001b[0;34m]\u001b[0m \u001b[0;34m=\u001b[0m \u001b[0;34m'X'\u001b[0m\u001b[0;34m\u001b[0m\u001b[0m\n\u001b[0m",
      "\u001b[0;31mTypeError\u001b[0m: 'str' object does not support item assignment"
     ]
    }
   ],
   "source": [
    "\"\"\"Lists are mutable, strings are immutable.\"\"\"\n",
    "my_list = [1, 3, True, 6.5]\n",
    "print(my_list)\n",
    "my_list[0] = 2 ** 10\n",
    "print(my_list)\n",
    "my_name = 'David'\n",
    "my_name[0] = 'X' "
   ]
  },
  {
   "cell_type": "code",
   "execution_count": 8,
   "metadata": {},
   "outputs": [
    {
     "name": "stdout",
     "output_type": "stream",
     "text": [
      "(2, True, 4.96)\n",
      "3\n",
      "2\n",
      "(2, True, 4.96, 2, True, 4.96, 2, True, 4.96)\n",
      "(2, True)\n"
     ]
    },
    {
     "ename": "TypeError",
     "evalue": "'tuple' object does not support item assignment",
     "output_type": "error",
     "traceback": [
      "\u001b[0;31m\u001b[0m",
      "\u001b[0;31mTypeError\u001b[0mTraceback (most recent call last)",
      "\u001b[0;32m<ipython-input-8-0a6bfc4f9e4e>\u001b[0m in \u001b[0;36m<module>\u001b[0;34m()\u001b[0m\n\u001b[1;32m      6\u001b[0m \u001b[0;32mprint\u001b[0m\u001b[0;34m(\u001b[0m\u001b[0mmy_tuple\u001b[0m \u001b[0;34m*\u001b[0m \u001b[0;36m3\u001b[0m\u001b[0;34m)\u001b[0m\u001b[0;34m\u001b[0m\u001b[0m\n\u001b[1;32m      7\u001b[0m \u001b[0;32mprint\u001b[0m\u001b[0;34m(\u001b[0m\u001b[0mmy_tuple\u001b[0m\u001b[0;34m[\u001b[0m\u001b[0;36m0\u001b[0m\u001b[0;34m:\u001b[0m\u001b[0;36m2\u001b[0m\u001b[0;34m]\u001b[0m\u001b[0;34m)\u001b[0m\u001b[0;34m\u001b[0m\u001b[0m\n\u001b[0;32m----> 8\u001b[0;31m \u001b[0mmy_tuple\u001b[0m\u001b[0;34m[\u001b[0m\u001b[0;36m1\u001b[0m\u001b[0;34m]\u001b[0m \u001b[0;34m=\u001b[0m \u001b[0mFalse\u001b[0m\u001b[0;34m\u001b[0m\u001b[0m\n\u001b[0m",
      "\u001b[0;31mTypeError\u001b[0m: 'tuple' object does not support item assignment"
     ]
    }
   ],
   "source": [
    "\"\"\"Tuple is similar to list but is immutable.\"\"\"\n",
    "my_tuple = (2, True, 4.96)\n",
    "print(my_tuple)\n",
    "print(len(my_tuple))\n",
    "print(my_tuple[0])\n",
    "print(my_tuple * 3)\n",
    "print(my_tuple[0:2])\n",
    "my_tuple[1] = False"
   ]
  },
  {
   "cell_type": "code",
   "execution_count": 9,
   "metadata": {},
   "outputs": [
    {
     "name": "stdout",
     "output_type": "stream",
     "text": [
      "set([False, 4.5, 3, 6, 'cat'])\n",
      "5\n",
      "True\n",
      "False\n"
     ]
    }
   ],
   "source": [
    "\"\"\"\n",
    "Set: unordered collectio of zero or more immutable data objects, \n",
    "not allowing duplicates.\n",
    "\"\"\"\n",
    "my_set = {3, 6, 'cat', 4.5, False}\n",
    "print(my_set)\n",
    "print(len(my_set))\n",
    "print(False in my_set)\n",
    "print('dog' in my_set)"
   ]
  },
  {
   "cell_type": "code",
   "execution_count": 10,
   "metadata": {},
   "outputs": [
    {
     "name": "stdout",
     "output_type": "stream",
     "text": [
      "{'Wisconsin': 'Madison', 'Iowa': 'DesMoines'}\n",
      "DesMoines\n",
      "{'Wisconsin': 'Madison', 'Utah': 'SaltLakeCity', 'Iowa': 'DesMoines'}\n",
      "4\n",
      "Madison is the capital of Wisconsin\n",
      "SaltLakeCity is the capital of Utah\n",
      "DesMoines is the capital of Iowa\n",
      "Sacremento is the capital of California\n",
      "['Wisconsin', 'Utah', 'Iowa', 'California']\n",
      "True\n",
      "['Madison', 'SaltLakeCity', 'DesMoines', 'Sacremento']\n",
      "[('Wisconsin', 'Madison'), ('Utah', 'SaltLakeCity'), ('Iowa', 'DesMoines'), ('California', 'Sacremento')]\n",
      "Sacremento\n",
      "None\n",
      "NO ENTRY\n",
      "{'Wisconsin': 'Madison', 'Utah': 'SaltLakeCity', 'Iowa': 'DesMoines'}\n"
     ]
    }
   ],
   "source": [
    "\"\"\"\n",
    "Dictionary: unordered collection of associated pairs of items consisting of a (key, value).\n",
    "\"\"\"\n",
    "capitals = {'Iowa': 'DesMoines', 'Wisconsin': 'Madison'}\n",
    "print(capitals)\n",
    "print(capitals['Iowa'])\n",
    "capitals['Utah'] = 'SaltLakeCity'\n",
    "print(capitals)\n",
    "capitals['California'] = 'Sacremento'\n",
    "print(len(capitals))\n",
    "\n",
    "for k in capitals:\n",
    "    print(capitals[k], 'is the capital of', k)\n",
    "\n",
    "print(capitals.keys())\n",
    "print('California' in capitals)\n",
    "print(capitals.values())\n",
    "print(capitals.items())\n",
    "\n",
    "print(capitals.get('California'))\n",
    "print(capitals.get('Kent'))\n",
    "print(capitals.get('Kent', 'NO ENTRY'))\n",
    "\n",
    "del capitals['California']\n",
    "print(capitals)"
   ]
  },
  {
   "cell_type": "code",
   "execution_count": 11,
   "metadata": {},
   "outputs": [
    {
     "name": "stdout",
     "output_type": "stream",
     "text": [
      "Please enter your name: \n",
      "Your name in all capitals is  and has length 0\n"
     ]
    }
   ],
   "source": [
    "\"\"\"Input.\"\"\"\n",
    "user_name = raw_input('Please enter your name: ')\n",
    "print('Your name in all capitals is', user_name.upper(), \n",
    "      'and has length', len(user_name))"
   ]
  },
  {
   "cell_type": "code",
   "execution_count": 12,
   "metadata": {},
   "outputs": [
    {
     "name": "stdout",
     "output_type": "stream",
     "text": [
      "Bowen Li is 36 years old.\n",
      "Bowen Li is 36 years old.\n",
      "Bowen Li is 36 years old.\n",
      "Hello World\n",
      "Hello***World\n",
      "Hello World***"
     ]
    }
   ],
   "source": [
    "\"\"\"Output: print with string formatting.\"\"\"\n",
    "name = 'Bowen Li'\n",
    "age = 36\n",
    "print(name, 'is', age, 'years old.')\n",
    "print('%s is %d years old.' % (name, age))\n",
    "print('{0} is {1} years old.'.format(name, age))\n",
    "\n",
    "print('Hello', 'World')\n",
    "print('Hello', 'World', sep='***')\n",
    "print('Hello', 'World', end='***')"
   ]
  },
  {
   "cell_type": "code",
   "execution_count": 13,
   "metadata": {},
   "outputs": [
    {
     "name": "stdout",
     "output_type": "stream",
     "text": [
      "Hello World\n",
      "Hello World\n",
      "Hello World\n",
      "Hello World\n",
      "Hello World\n"
     ]
    }
   ],
   "source": [
    "\"\"\"Control structure: While.\"\"\"\n",
    "counter = 1\n",
    "while counter <= 5:\n",
    "    print('Hello World')\n",
    "    counter += 1"
   ]
  },
  {
   "cell_type": "code",
   "execution_count": 14,
   "metadata": {},
   "outputs": [
    {
     "name": "stdout",
     "output_type": "stream",
     "text": [
      "1\n",
      "3\n",
      "6\n",
      "2\n",
      "5\n",
      "---\n",
      "0\n",
      "1\n",
      "4\n",
      "9\n",
      "16\n",
      "---\n",
      "['c', 'a', 't', 'd', 'o', 'g', 'r', 'a', 'b', 'b', 'i', 't']\n"
     ]
    }
   ],
   "source": [
    "\"\"\"Control structure: for.\"\"\"\n",
    "for item in [1, 3, 6, 2, 5]:\n",
    "    print(item)\n",
    "    \n",
    "print('---')\n",
    "for item in range(5):\n",
    "    print(item ** 2)\n",
    "\n",
    "print('---')\n",
    "word_list = ['cat', 'dog', 'rabbit']\n",
    "letter_list = []\n",
    "for a_word in word_list:\n",
    "    for a_letter in a_word:\n",
    "        letter_list.append(a_letter)\n",
    "print(letter_list)"
   ]
  },
  {
   "cell_type": "code",
   "execution_count": 22,
   "metadata": {},
   "outputs": [
    {
     "name": "stdout",
     "output_type": "stream",
     "text": [
      "Please input a number: -16\n",
      "4.0\n"
     ]
    }
   ],
   "source": [
    "\"\"\"Control structure: ifelse.\"\"\"\n",
    "import math\n",
    "a_number = raw_input('Please input a number: ')\n",
    "a_number = float(a_number)\n",
    "if a_number < 0:\n",
    "    a_number = abs(a_number)\n",
    "else:\n",
    "    pass\n",
    "print(math.sqrt(a_number))"
   ]
  },
  {
   "cell_type": "code",
   "execution_count": 16,
   "metadata": {},
   "outputs": [
    {
     "name": "stdout",
     "output_type": "stream",
     "text": [
      "[1, 4, 9, 16, 25, 36, 49, 64, 81, 100]\n",
      "[1, 4, 9, 16, 25, 36, 49, 64, 81, 100]\n",
      "[1, 9, 25, 49, 81]\n"
     ]
    }
   ],
   "source": [
    "\"\"\"List comprehansion.\"\"\"\n",
    "sq_list = []\n",
    "for x in range(1, 11):\n",
    "    sq_list.append(x * x)\n",
    "print(sq_list)\n",
    "\n",
    "sq_list = [x * x for x in range(1, 11)]\n",
    "print(sq_list)\n",
    "\n",
    "sq_list = [x * x for x in range(1, 11) if x % 2 != 0]\n",
    "print(sq_list)"
   ]
  },
  {
   "cell_type": "code",
   "execution_count": 18,
   "metadata": {},
   "outputs": [
    {
     "name": "stdout",
     "output_type": "stream",
     "text": [
      "Please input a number: -16\n",
      "Bad number for square root.\n",
      "Using absolute value instead.\n",
      "4.0\n"
     ]
    }
   ],
   "source": [
    "\"\"\"Exception handling.\"\"\"\n",
    "import math\n",
    "a_number = raw_input('Please input a number: ')\n",
    "a_number = float(a_number)\n",
    "\n",
    "try:\n",
    "    print(math.sqrt(a_number))\n",
    "except:\n",
    "    print('Bad number for square root.')\n",
    "    print('Using absolute value instead.')\n",
    "    print(math.sqrt(abs(a_number)))"
   ]
  },
  {
   "cell_type": "code",
   "execution_count": 19,
   "metadata": {},
   "outputs": [
    {
     "name": "stdout",
     "output_type": "stream",
     "text": [
      "3.0\n",
      "67.5499814952\n"
     ]
    }
   ],
   "source": [
    "\"\"\"Defining functions.\n",
    "\n",
    "The original Newton's Method for approximating square root is wrong.\n",
    "The correct form: \n",
    "    new_guess = 1/2 * (old_guess + n / old_guess)\n",
    "\"\"\"\n",
    "def square_root(n, steps=20):\n",
    "    root = n / 2\n",
    "    for k in range(steps):\n",
    "        root = 1 / 2 * (root + n / root)\n",
    "    return root\n",
    "\n",
    "print(square_root(9))\n",
    "print(square_root(4563))"
   ]
  },
  {
   "cell_type": "code",
   "execution_count": 20,
   "metadata": {
    "collapsed": true
   },
   "outputs": [],
   "source": [
    "\"\"\"Object oriented programming in Python: Defining class.\n",
    "\n",
    "Example: Fraction class.\n",
    "\"\"\"\n",
    "def compute_gcd(m, n):\n",
    "    \"\"\"Compute the greatest common divisor by Euclid's Algorithm.\"\"\"\n",
    "    while m % n != 0:\n",
    "        old_m = m\n",
    "        old_n = n\n",
    "        m = old_n\n",
    "        n = old_m % old_n\n",
    "    return n\n",
    "\n",
    "class Fraction(object):\n",
    "    def __init__(self, num, den):\n",
    "        self.num = num\n",
    "        self.den = den\n",
    "    \n",
    "    def show(self):\n",
    "        print(self.num, '/', self.den)\n",
    "        \n",
    "    def __str__(self):\n",
    "        return str(self.num) + '/' + str(self.den)\n",
    "    \n",
    "    def __add__(self, other_frac):\n",
    "        new_num = self.num * other_frac.den + self.den * other_frac.num\n",
    "        new_den = self.den * other_frac.den\n",
    "        gcd = compute_gcd(new_num, new_den)\n",
    "        new_num = new_num // gcd\n",
    "        new_den = new_den // gcd\n",
    "        if new_num == new_den:\n",
    "            fracs_add = 1\n",
    "        else:\n",
    "            fracs_add = Fraction(new_num, new_den)\n",
    "        return fracs_add\n",
    "    \n",
    "    def __eq__(self, other_frac):\n",
    "        first_num = self.num * other_frac.den\n",
    "        second_num = other_frac.num * self.den\n",
    "        return first_num == second_num"
   ]
  },
  {
   "cell_type": "code",
   "execution_count": 21,
   "metadata": {},
   "outputs": [
    {
     "name": "stdout",
     "output_type": "stream",
     "text": [
      "1 / 3\n",
      "1/3\n",
      "1/3\n",
      "5/6\n",
      "False\n"
     ]
    }
   ],
   "source": [
    "frac1 = Fraction(1, 3)\n",
    "frac2 = Fraction(2, 4)\n",
    "\n",
    "frac1.show()\n",
    "print(frac1)\n",
    "print(frac1.__str__())\n",
    "\n",
    "frac3 = frac1 + frac2\n",
    "print(frac3)\n",
    "\n",
    "print(frac1 == frac2)"
   ]
  }
 ],
 "metadata": {
  "kernelspec": {
   "display_name": "Python 2",
   "language": "python",
   "name": "python2"
  },
  "language_info": {
   "codemirror_mode": {
    "name": "ipython",
    "version": 2
   },
   "file_extension": ".py",
   "mimetype": "text/x-python",
   "name": "python",
   "nbconvert_exporter": "python",
   "pygments_lexer": "ipython2",
   "version": "2.7.12"
  }
 },
 "nbformat": 4,
 "nbformat_minor": 2
}
