{
 "cells": [
  {
   "cell_type": "code",
   "execution_count": 1,
   "metadata": {
    "collapsed": true
   },
   "outputs": [],
   "source": [
    "from __future__ import division\n",
    "from __future__ import print_function"
   ]
  },
  {
   "cell_type": "code",
   "execution_count": 20,
   "metadata": {},
   "outputs": [
    {
     "name": "stdout",
     "output_type": "stream",
     "text": [
      "True\n",
      "False\n"
     ]
    }
   ],
   "source": [
    "\"\"\"Anagram solution 1: check off.\"\"\"\n",
    "def check_off_anagram(s1, s2):\n",
    "    a_list = list(s2)\n",
    "    \n",
    "    pos1 = 0\n",
    "    still_ok = True\n",
    "    \n",
    "    while pos1 < len(s1) and still_ok:\n",
    "        pos2 = 0\n",
    "        found = False\n",
    "        while pos2 < len(a_list) and not found:\n",
    "            if s1[pos1] == a_list[pos2]:\n",
    "                found = True\n",
    "            else:\n",
    "                pos2 = pos2 + 1\n",
    "        \n",
    "        if found:\n",
    "            a_list[pos2] = None\n",
    "        else:\n",
    "            still_ok = False\n",
    "        \n",
    "        pos1 = pos1 + 1\n",
    "    \n",
    "    return still_ok\n",
    "\n",
    "print(check_off_anagram('abcd', 'acbd'))\n",
    "print(check_off_anagram('abcd', 'abfd'))"
   ]
  },
  {
   "cell_type": "code",
   "execution_count": 21,
   "metadata": {},
   "outputs": [
    {
     "name": "stdout",
     "output_type": "stream",
     "text": [
      "True\n",
      "False\n"
     ]
    }
   ],
   "source": [
    "\"\"\"Anagram solution 2: sort and compare.\"\"\"\n",
    "def sort_compare_anagram(s1, s2):\n",
    "    a_list1 = list(s1)\n",
    "    a_list2 = list(s2)\n",
    "\n",
    "    a_list1.sort()\n",
    "    a_list2.sort()\n",
    "    \n",
    "    pos = 0\n",
    "    matches = True\n",
    "    \n",
    "    while pos < len(s1) and matches:\n",
    "        if a_list1[pos] == a_list2[pos]:\n",
    "            pos = pos + 1\n",
    "        else:\n",
    "            matches = False\n",
    "    \n",
    "    return matches\n",
    "    \n",
    "print(sort_compare_anagram('abcd', 'acbd'))\n",
    "print(sort_compare_anagram('abcd', 'abfd'))"
   ]
  },
  {
   "cell_type": "code",
   "execution_count": 24,
   "metadata": {},
   "outputs": [
    {
     "name": "stdout",
     "output_type": "stream",
     "text": [
      "True\n",
      "False\n"
     ]
    }
   ],
   "source": [
    "\"\"\"Anagram solution 2 by count and compare.\"\"\"\n",
    "def count_compare_anagram(s1, s2):\n",
    "    c1 = [0] * 26\n",
    "    c2 = [0] * 26\n",
    "    \n",
    "    for i in range(len(s1)):\n",
    "        pos = ord(s1[i]) - ord('a')\n",
    "        c1[pos] = c1[pos] + 1\n",
    "    \n",
    "    for i in range(len(s2)):\n",
    "        pos = ord(s2[i]) - ord('a')\n",
    "        c2[pos] = c2[pos] + 1\n",
    "    \n",
    "    j = 0\n",
    "    still_ok = True\n",
    "    \n",
    "    while j < 26 and still_ok:\n",
    "        if c1[j] == c2[j]:\n",
    "            j = j + 1\n",
    "        else:\n",
    "            still_ok = False\n",
    "    \n",
    "    return still_ok\n",
    "    \n",
    "print(count_compare_anagram('abcd', 'acbd'))\n",
    "print(count_compare_anagram('abcd', 'abfd'))"
   ]
  },
  {
   "cell_type": "code",
   "execution_count": 27,
   "metadata": {},
   "outputs": [
    {
     "name": "stdout",
     "output_type": "stream",
     "text": [
      "concat: 1.88674783707 milliseconds\n",
      "append: 0.147264003754 milliseconds\n",
      "comprehension: 0.0698139667511 milliseconds\n",
      "list range: 0.0103130340576 milliseconds\n"
     ]
    }
   ],
   "source": [
    "\"\"\"List: Compare concat, append, list comprehension and list range.\"\"\"\n",
    "import timeit\n",
    "from timeit import Timer\n",
    "\n",
    "def concat_ls():\n",
    "    l = []\n",
    "    for i in range(1000):\n",
    "        l = l + [i]\n",
    "    return l\n",
    "        \n",
    "def append_ls():\n",
    "    l = []\n",
    "    for i in range(1000):\n",
    "        l.append(i)\n",
    "    return l\n",
    "\n",
    "def comprehend_ls():\n",
    "    l = [i for i in range(1000)]\n",
    "    return l\n",
    "\n",
    "def list_range_ls():\n",
    "    l = range(1000)\n",
    "    return l\n",
    "    \n",
    "t1 = Timer('concat_ls()', 'from __main__ import concat_ls')\n",
    "print('concat:', t1.timeit(number=1000), 'milliseconds')\n",
    "t2 = Timer('append_ls()', 'from __main__ import append_ls')\n",
    "print('append:', t2.timeit(number=1000), 'milliseconds')\n",
    "t3 = Timer('comprehend_ls()', 'from __main__ import comprehend_ls')\n",
    "print('comprehension:', t3.timeit(number=1000), 'milliseconds')\n",
    "t4 = Timer('list_range_ls()', 'from __main__ import list_range_ls')\n",
    "print('list range:', t4.timeit(number=1000), 'milliseconds')"
   ]
  },
  {
   "cell_type": "code",
   "execution_count": 35,
   "metadata": {},
   "outputs": [
    {
     "name": "stdout",
     "output_type": "stream",
     "text": [
      "pop(0) pop()\n",
      "        0.95300,         0.00066\n",
      "        1.79714,         0.00096\n",
      "        2.66699,         0.00039\n",
      "        4.15460,         0.00016\n",
      "        5.02836,         0.00047\n",
      "        6.16700,         0.00014\n",
      "        6.76153,         0.00065\n",
      "        8.91283,         0.00024\n",
      "       11.41022,         0.00017\n",
      "        9.57294,         0.00028\n",
      "       11.01664,         0.00018\n",
      "       11.42873,         0.00019\n",
      "       14.51106,         0.00063\n",
      "       13.64223,         0.00143\n",
      "       14.94089,         0.00029\n",
      "       17.01486,         0.00023\n",
      "       15.91547,         0.00033\n",
      "       16.71370,         0.00035\n",
      "       17.46755,         0.00089\n",
      "       21.11894,         0.00013\n"
     ]
    }
   ],
   "source": [
    "\"\"\"List: pop zero vs. pop end.\"\"\"\n",
    "import timeit\n",
    "from timeit import Timer\n",
    "\n",
    "pop_zero = Timer('x.pop(0)', 'from __main__ import x')\n",
    "pop_end = Timer('x.pop', 'from __main__ import x')\n",
    "print('pop(0) pop()')\n",
    "for i in range(1000000, 20000001, 1000000):\n",
    "    x = range(i)\n",
    "    pz = pop_zero.timeit(number=1000)\n",
    "    x = range(i)\n",
    "    pe = pop_end.timeit(number=1000)\n",
    "    print('%15.5f, %15.5f' % (pz, pe))"
   ]
  },
  {
   "cell_type": "code",
   "execution_count": 32,
   "metadata": {},
   "outputs": [
    {
     "name": "stdout",
     "output_type": "stream",
     "text": [
      " 10000,      0.097,      0.001\n",
      " 20000,      0.205,      0.001\n",
      " 30000,      0.259,      0.002\n",
      " 40000,      0.664,      0.001\n",
      " 50000,      0.534,      0.001\n",
      " 60000,      0.654,      0.002\n",
      " 70000,      1.203,      0.001\n",
      " 80000,      0.915,      0.002\n",
      " 90000,      1.327,      0.001\n",
      "100000,      1.369,      0.001\n",
      "110000,      1.139,      0.002\n",
      "120000,      1.249,      0.001\n",
      "130000,      1.254,      0.001\n",
      "140000,      1.299,      0.001\n",
      "150000,      1.575,      0.001\n",
      "160000,      1.594,      0.002\n",
      "170000,      1.674,      0.001\n",
      "180000,      1.827,      0.002\n",
      "190000,      1.943,      0.001\n",
      "200000,      1.953,      0.002\n"
     ]
    }
   ],
   "source": [
    "\"\"\"Dictionary: contain in dictionary vs. in list.\"\"\"\n",
    "import timeit\n",
    "from timeit import Timer\n",
    "import random\n",
    "\n",
    "for i in range(10000, 200001, 10000):\n",
    "    t = Timer('random.randrange(%d) in x' % i, \n",
    "              'from __main__ import random, x')\n",
    "    x = range(i)\n",
    "    ls_time = t.timeit(number=1000)\n",
    "    x = {j: None for j in range(i)}\n",
    "    dict_time = t.timeit(number=1000)\n",
    "    print('%6.0f, %10.3f, %10.3f' % (i, ls_time, dict_time))"
   ]
  },
  {
   "cell_type": "code",
   "execution_count": null,
   "metadata": {
    "collapsed": true
   },
   "outputs": [],
   "source": []
  }
 ],
 "metadata": {
  "kernelspec": {
   "display_name": "Python 2",
   "language": "python",
   "name": "python2"
  },
  "language_info": {
   "codemirror_mode": {
    "name": "ipython",
    "version": 2
   },
   "file_extension": ".py",
   "mimetype": "text/x-python",
   "name": "python",
   "nbconvert_exporter": "python",
   "pygments_lexer": "ipython2",
   "version": "2.7.12"
  }
 },
 "nbformat": 4,
 "nbformat_minor": 2
}
